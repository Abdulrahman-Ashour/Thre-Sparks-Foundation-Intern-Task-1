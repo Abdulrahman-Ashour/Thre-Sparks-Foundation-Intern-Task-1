{
 "cells": [
  {
   "cell_type": "markdown",
   "id": "31a34c8f",
   "metadata": {
    "papermill": {
     "duration": 0.03032,
     "end_time": "2022-02-07T13:39:56.989520",
     "exception": false,
     "start_time": "2022-02-07T13:39:56.959200",
     "status": "completed"
    },
    "tags": []
   },
   "source": [
    "# **Name: Abdulrahman Ashour Kamel**"
   ]
  },
  {
   "cell_type": "markdown",
   "id": "7c9e192d",
   "metadata": {
    "papermill": {
     "duration": 0.029614,
     "end_time": "2022-02-07T13:39:57.051764",
     "exception": false,
     "start_time": "2022-02-07T13:39:57.022150",
     "status": "completed"
    },
    "tags": []
   },
   "source": [
    "# Importing Libraries"
   ]
  },
  {
   "cell_type": "code",
   "execution_count": 1,
   "id": "669417ff",
   "metadata": {
    "_cell_guid": "b1076dfc-b9ad-4769-8c92-a6c4dae69d19",
    "_uuid": "8f2839f25d086af736a60e9eeb907d3b93b6e0e5",
    "execution": {
     "iopub.execute_input": "2022-02-07T13:39:57.115990Z",
     "iopub.status.busy": "2022-02-07T13:39:57.114803Z",
     "iopub.status.idle": "2022-02-07T13:39:58.320288Z",
     "shell.execute_reply": "2022-02-07T13:39:58.319416Z",
     "shell.execute_reply.started": "2022-02-07T13:34:27.064010Z"
    },
    "papermill": {
     "duration": 1.239404,
     "end_time": "2022-02-07T13:39:58.320590",
     "exception": false,
     "start_time": "2022-02-07T13:39:57.081186",
     "status": "completed"
    },
    "tags": []
   },
   "outputs": [],
   "source": [
    "import pandas as pd\n",
    "import numpy as np\n",
    "from sklearn import  linear_model\n",
    "from sklearn.metrics import accuracy_score\n",
    "import matplotlib.pyplot as plt \n",
    "from sklearn.model_selection import train_test_split\n",
    "from sklearn.metrics import r2_score, mean_absolute_error, mean_squared_error \n",
    "from sklearn.linear_model import LinearRegression\n",
    "from sklearn.preprocessing import PolynomialFeatures"
   ]
  },
  {
   "cell_type": "markdown",
   "id": "1bc98af3",
   "metadata": {
    "papermill": {
     "duration": 0.028197,
     "end_time": "2022-02-07T13:39:58.378003",
     "exception": false,
     "start_time": "2022-02-07T13:39:58.349806",
     "status": "completed"
    },
    "tags": []
   },
   "source": [
    "# Loding Data"
   ]
  },
  {
   "cell_type": "code",
   "execution_count": 2,
   "id": "1f0a2ed0",
   "metadata": {
    "execution": {
     "iopub.execute_input": "2022-02-07T13:39:58.442102Z",
     "iopub.status.busy": "2022-02-07T13:39:58.441302Z",
     "iopub.status.idle": "2022-02-07T13:39:58.758517Z",
     "shell.execute_reply": "2022-02-07T13:39:58.759102Z",
     "shell.execute_reply.started": "2022-02-07T13:34:32.203583Z"
    },
    "papermill": {
     "duration": 0.352884,
     "end_time": "2022-02-07T13:39:58.759313",
     "exception": false,
     "start_time": "2022-02-07T13:39:58.406429",
     "status": "completed"
    },
    "tags": []
   },
   "outputs": [
    {
     "data": {
      "text/html": [
       "<div>\n",
       "<style scoped>\n",
       "    .dataframe tbody tr th:only-of-type {\n",
       "        vertical-align: middle;\n",
       "    }\n",
       "\n",
       "    .dataframe tbody tr th {\n",
       "        vertical-align: top;\n",
       "    }\n",
       "\n",
       "    .dataframe thead th {\n",
       "        text-align: right;\n",
       "    }\n",
       "</style>\n",
       "<table border=\"1\" class=\"dataframe\">\n",
       "  <thead>\n",
       "    <tr style=\"text-align: right;\">\n",
       "      <th></th>\n",
       "      <th>Hours</th>\n",
       "      <th>Scores</th>\n",
       "    </tr>\n",
       "  </thead>\n",
       "  <tbody>\n",
       "    <tr>\n",
       "      <th>0</th>\n",
       "      <td>2.5</td>\n",
       "      <td>21</td>\n",
       "    </tr>\n",
       "    <tr>\n",
       "      <th>1</th>\n",
       "      <td>5.1</td>\n",
       "      <td>47</td>\n",
       "    </tr>\n",
       "    <tr>\n",
       "      <th>2</th>\n",
       "      <td>3.2</td>\n",
       "      <td>27</td>\n",
       "    </tr>\n",
       "    <tr>\n",
       "      <th>3</th>\n",
       "      <td>8.5</td>\n",
       "      <td>75</td>\n",
       "    </tr>\n",
       "    <tr>\n",
       "      <th>4</th>\n",
       "      <td>3.5</td>\n",
       "      <td>30</td>\n",
       "    </tr>\n",
       "    <tr>\n",
       "      <th>5</th>\n",
       "      <td>1.5</td>\n",
       "      <td>20</td>\n",
       "    </tr>\n",
       "    <tr>\n",
       "      <th>6</th>\n",
       "      <td>9.2</td>\n",
       "      <td>88</td>\n",
       "    </tr>\n",
       "    <tr>\n",
       "      <th>7</th>\n",
       "      <td>5.5</td>\n",
       "      <td>60</td>\n",
       "    </tr>\n",
       "    <tr>\n",
       "      <th>8</th>\n",
       "      <td>8.3</td>\n",
       "      <td>81</td>\n",
       "    </tr>\n",
       "    <tr>\n",
       "      <th>9</th>\n",
       "      <td>2.7</td>\n",
       "      <td>25</td>\n",
       "    </tr>\n",
       "    <tr>\n",
       "      <th>10</th>\n",
       "      <td>7.7</td>\n",
       "      <td>85</td>\n",
       "    </tr>\n",
       "    <tr>\n",
       "      <th>11</th>\n",
       "      <td>5.9</td>\n",
       "      <td>62</td>\n",
       "    </tr>\n",
       "    <tr>\n",
       "      <th>12</th>\n",
       "      <td>4.5</td>\n",
       "      <td>41</td>\n",
       "    </tr>\n",
       "    <tr>\n",
       "      <th>13</th>\n",
       "      <td>3.3</td>\n",
       "      <td>42</td>\n",
       "    </tr>\n",
       "    <tr>\n",
       "      <th>14</th>\n",
       "      <td>1.1</td>\n",
       "      <td>17</td>\n",
       "    </tr>\n",
       "    <tr>\n",
       "      <th>15</th>\n",
       "      <td>8.9</td>\n",
       "      <td>95</td>\n",
       "    </tr>\n",
       "    <tr>\n",
       "      <th>16</th>\n",
       "      <td>2.5</td>\n",
       "      <td>30</td>\n",
       "    </tr>\n",
       "    <tr>\n",
       "      <th>17</th>\n",
       "      <td>1.9</td>\n",
       "      <td>24</td>\n",
       "    </tr>\n",
       "    <tr>\n",
       "      <th>18</th>\n",
       "      <td>6.1</td>\n",
       "      <td>67</td>\n",
       "    </tr>\n",
       "    <tr>\n",
       "      <th>19</th>\n",
       "      <td>7.4</td>\n",
       "      <td>69</td>\n",
       "    </tr>\n",
       "    <tr>\n",
       "      <th>20</th>\n",
       "      <td>2.7</td>\n",
       "      <td>30</td>\n",
       "    </tr>\n",
       "    <tr>\n",
       "      <th>21</th>\n",
       "      <td>4.8</td>\n",
       "      <td>54</td>\n",
       "    </tr>\n",
       "    <tr>\n",
       "      <th>22</th>\n",
       "      <td>3.8</td>\n",
       "      <td>35</td>\n",
       "    </tr>\n",
       "    <tr>\n",
       "      <th>23</th>\n",
       "      <td>6.9</td>\n",
       "      <td>76</td>\n",
       "    </tr>\n",
       "    <tr>\n",
       "      <th>24</th>\n",
       "      <td>7.8</td>\n",
       "      <td>86</td>\n",
       "    </tr>\n",
       "  </tbody>\n",
       "</table>\n",
       "</div>"
      ],
      "text/plain": [
       "    Hours  Scores\n",
       "0     2.5      21\n",
       "1     5.1      47\n",
       "2     3.2      27\n",
       "3     8.5      75\n",
       "4     3.5      30\n",
       "5     1.5      20\n",
       "6     9.2      88\n",
       "7     5.5      60\n",
       "8     8.3      81\n",
       "9     2.7      25\n",
       "10    7.7      85\n",
       "11    5.9      62\n",
       "12    4.5      41\n",
       "13    3.3      42\n",
       "14    1.1      17\n",
       "15    8.9      95\n",
       "16    2.5      30\n",
       "17    1.9      24\n",
       "18    6.1      67\n",
       "19    7.4      69\n",
       "20    2.7      30\n",
       "21    4.8      54\n",
       "22    3.8      35\n",
       "23    6.9      76\n",
       "24    7.8      86"
      ]
     },
     "execution_count": 2,
     "metadata": {},
     "output_type": "execute_result"
    }
   ],
   "source": [
    "url = \"http://bit.ly/w-data\"\n",
    "data_df = pd.read_csv(url)\n",
    "data_df"
   ]
  },
  {
   "cell_type": "markdown",
   "id": "ec9643be",
   "metadata": {
    "papermill": {
     "duration": 0.031447,
     "end_time": "2022-02-07T13:39:58.821947",
     "exception": false,
     "start_time": "2022-02-07T13:39:58.790500",
     "status": "completed"
    },
    "tags": []
   },
   "source": [
    "# Plotting the Relation"
   ]
  },
  {
   "cell_type": "code",
   "execution_count": 3,
   "id": "a86e0251",
   "metadata": {
    "execution": {
     "iopub.execute_input": "2022-02-07T13:39:58.890025Z",
     "iopub.status.busy": "2022-02-07T13:39:58.889033Z",
     "iopub.status.idle": "2022-02-07T13:39:59.176861Z",
     "shell.execute_reply": "2022-02-07T13:39:59.176157Z",
     "shell.execute_reply.started": "2022-02-07T13:34:36.941982Z"
    },
    "papermill": {
     "duration": 0.324196,
     "end_time": "2022-02-07T13:39:59.177024",
     "exception": false,
     "start_time": "2022-02-07T13:39:58.852828",
     "status": "completed"
    },
    "tags": []
   },
   "outputs": [
    {
     "data": {
      "image/png": "[encoded data removed]",
      "text/plain": [
       "<Figure size 432x288 with 1 Axes>"
      ]
     },
     "metadata": {
      "needs_background": "light"
     },
     "output_type": "display_data"
    }
   ],
   "source": [
    "data_df.plot(x='Hours', y='Scores', style='d')  \n",
    "plt.title('Hours vs Percentage')  \n",
    "plt.xlabel('Hours Studied')  \n",
    "plt.ylabel('Percentage Score')  \n",
    "plt.show()"
   ]
  },
  {
   "cell_type": "markdown",
   "id": "868646dc",
   "metadata": {
    "papermill": {
     "duration": 0.03031,
     "end_time": "2022-02-07T13:39:59.238434",
     "exception": false,
     "start_time": "2022-02-07T13:39:59.208124",
     "status": "completed"
    },
    "tags": []
   },
   "source": [
    "# Data Preparation"
   ]
  },
  {
   "cell_type": "code",
   "execution_count": 4,
   "id": "5d89130f",
   "metadata": {
    "execution": {
     "iopub.execute_input": "2022-02-07T13:39:59.303483Z",
     "iopub.status.busy": "2022-02-07T13:39:59.302791Z",
     "iopub.status.idle": "2022-02-07T13:39:59.309479Z",
     "shell.execute_reply": "2022-02-07T13:39:59.310071Z",
     "shell.execute_reply.started": "2022-02-07T13:34:40.532287Z"
    },
    "papermill": {
     "duration": 0.041561,
     "end_time": "2022-02-07T13:39:59.310267",
     "exception": false,
     "start_time": "2022-02-07T13:39:59.268706",
     "status": "completed"
    },
    "tags": []
   },
   "outputs": [
    {
     "data": {
      "text/plain": [
       "0     2.5\n",
       "1     5.1\n",
       "2     3.2\n",
       "3     8.5\n",
       "4     3.5\n",
       "5     1.5\n",
       "6     9.2\n",
       "7     5.5\n",
       "8     8.3\n",
       "9     2.7\n",
       "10    7.7\n",
       "11    5.9\n",
       "12    4.5\n",
       "13    3.3\n",
       "14    1.1\n",
       "15    8.9\n",
       "16    2.5\n",
       "17    1.9\n",
       "18    6.1\n",
       "19    7.4\n",
       "20    2.7\n",
       "21    4.8\n",
       "22    3.8\n",
       "23    6.9\n",
       "24    7.8\n",
       "Name: Hours, dtype: float64"
      ]
     },
     "execution_count": 4,
     "metadata": {},
     "output_type": "execute_result"
    }
   ],
   "source": [
    "train_df=data_df[\"Hours\"]\n",
    "train_df"
   ]
  },
  {
   "cell_type": "code",
   "execution_count": 5,
   "id": "0f0ffbbb",
   "metadata": {
    "execution": {
     "iopub.execute_input": "2022-02-07T13:39:59.375877Z",
     "iopub.status.busy": "2022-02-07T13:39:59.375148Z",
     "iopub.status.idle": "2022-02-07T13:39:59.381154Z",
     "shell.execute_reply": "2022-02-07T13:39:59.381748Z",
     "shell.execute_reply.started": "2022-02-07T13:34:41.308267Z"
    },
    "papermill": {
     "duration": 0.040493,
     "end_time": "2022-02-07T13:39:59.381928",
     "exception": false,
     "start_time": "2022-02-07T13:39:59.341435",
     "status": "completed"
    },
    "tags": []
   },
   "outputs": [
    {
     "data": {
      "text/plain": [
       "0     21\n",
       "1     47\n",
       "2     27\n",
       "3     75\n",
       "4     30\n",
       "5     20\n",
       "6     88\n",
       "7     60\n",
       "8     81\n",
       "9     25\n",
       "10    85\n",
       "11    62\n",
       "12    41\n",
       "13    42\n",
       "14    17\n",
       "15    95\n",
       "16    30\n",
       "17    24\n",
       "18    67\n",
       "19    69\n",
       "20    30\n",
       "21    54\n",
       "22    35\n",
       "23    76\n",
       "24    86\n",
       "Name: Scores, dtype: int64"
      ]
     },
     "execution_count": 5,
     "metadata": {},
     "output_type": "execute_result"
    }
   ],
   "source": [
    "target_df=data_df[\"Scores\"]\n",
    "target_df"
   ]
  },
  {
   "cell_type": "markdown",
   "id": "9d157657",
   "metadata": {
    "papermill": {
     "duration": 0.031926,
     "end_time": "2022-02-07T13:39:59.444856",
     "exception": false,
     "start_time": "2022-02-07T13:39:59.412930",
     "status": "completed"
    },
    "tags": []
   },
   "source": [
    "# Models Training"
   ]
  },
  {
   "cell_type": "markdown",
   "id": "eaacd2ad",
   "metadata": {
    "papermill": {
     "duration": 0.030379,
     "end_time": "2022-02-07T13:39:59.506060",
     "exception": false,
     "start_time": "2022-02-07T13:39:59.475681",
     "status": "completed"
    },
    "tags": []
   },
   "source": [
    "## Model #1 : Simple Linear Regression"
   ]
  },
  {
   "cell_type": "code",
   "execution_count": 6,
   "id": "8e09e7dd",
   "metadata": {
    "execution": {
     "iopub.execute_input": "2022-02-07T13:39:59.571906Z",
     "iopub.status.busy": "2022-02-07T13:39:59.571250Z",
     "iopub.status.idle": "2022-02-07T13:39:59.577613Z",
     "shell.execute_reply": "2022-02-07T13:39:59.578132Z",
     "shell.execute_reply.started": "2022-02-07T13:34:43.720198Z"
    },
    "papermill": {
     "duration": 0.041649,
     "end_time": "2022-02-07T13:39:59.578296",
     "exception": false,
     "start_time": "2022-02-07T13:39:59.536647",
     "status": "completed"
    },
    "tags": []
   },
   "outputs": [],
   "source": [
    "x_train,x_test,y_train,y_test=train_test_split(train_df,target_df,test_size=0.31,random_state=1)"
   ]
  },
  {
   "cell_type": "code",
   "execution_count": 7,
   "id": "a410ec71",
   "metadata": {
    "execution": {
     "iopub.execute_input": "2022-02-07T13:39:59.644134Z",
     "iopub.status.busy": "2022-02-07T13:39:59.643403Z",
     "iopub.status.idle": "2022-02-07T13:39:59.646620Z",
     "shell.execute_reply": "2022-02-07T13:39:59.647154Z",
     "shell.execute_reply.started": "2022-02-07T13:34:44.517902Z"
    },
    "papermill": {
     "duration": 0.038354,
     "end_time": "2022-02-07T13:39:59.647342",
     "exception": false,
     "start_time": "2022-02-07T13:39:59.608988",
     "status": "completed"
    },
    "tags": []
   },
   "outputs": [],
   "source": [
    "model= LinearRegression()"
   ]
  },
  {
   "cell_type": "code",
   "execution_count": 8,
   "id": "4cc2e804",
   "metadata": {
    "execution": {
     "iopub.execute_input": "2022-02-07T13:39:59.713409Z",
     "iopub.status.busy": "2022-02-07T13:39:59.712783Z",
     "iopub.status.idle": "2022-02-07T13:39:59.732950Z",
     "shell.execute_reply": "2022-02-07T13:39:59.733565Z",
     "shell.execute_reply.started": "2022-02-07T13:34:46.104213Z"
    },
    "papermill": {
     "duration": 0.055043,
     "end_time": "2022-02-07T13:39:59.733747",
     "exception": false,
     "start_time": "2022-02-07T13:39:59.678704",
     "status": "completed"
    },
    "tags": []
   },
   "outputs": [
    {
     "data": {
      "text/plain": [
       "LinearRegression()"
      ]
     },
     "execution_count": 8,
     "metadata": {},
     "output_type": "execute_result"
    }
   ],
   "source": [
    "model.fit(x_train.values.reshape(-1, 1),y_train)"
   ]
  },
  {
   "cell_type": "code",
   "execution_count": 9,
   "id": "def1b51d",
   "metadata": {
    "execution": {
     "iopub.execute_input": "2022-02-07T13:39:59.805974Z",
     "iopub.status.busy": "2022-02-07T13:39:59.805261Z",
     "iopub.status.idle": "2022-02-07T13:39:59.809118Z",
     "shell.execute_reply": "2022-02-07T13:39:59.808483Z",
     "shell.execute_reply.started": "2022-02-07T13:34:47.073457Z"
    },
    "papermill": {
     "duration": 0.042315,
     "end_time": "2022-02-07T13:39:59.809258",
     "exception": false,
     "start_time": "2022-02-07T13:39:59.766943",
     "status": "completed"
    },
    "tags": []
   },
   "outputs": [
    {
     "data": {
      "text/plain": [
       "0.9681980033905908"
      ]
     },
     "execution_count": 9,
     "metadata": {},
     "output_type": "execute_result"
    }
   ],
   "source": [
    "model.score(x_train.values.reshape(-1,1),y_train)"
   ]
  },
  {
   "cell_type": "code",
   "execution_count": 10,
   "id": "d9f05ea9",
   "metadata": {
    "execution": {
     "iopub.execute_input": "2022-02-07T13:39:59.875644Z",
     "iopub.status.busy": "2022-02-07T13:39:59.874985Z",
     "iopub.status.idle": "2022-02-07T13:39:59.879025Z",
     "shell.execute_reply": "2022-02-07T13:39:59.879582Z",
     "shell.execute_reply.started": "2022-02-07T13:34:48.562085Z"
    },
    "papermill": {
     "duration": 0.038911,
     "end_time": "2022-02-07T13:39:59.879750",
     "exception": false,
     "start_time": "2022-02-07T13:39:59.840839",
     "status": "completed"
    },
    "tags": []
   },
   "outputs": [],
   "source": [
    "Ypredicted= model.predict(x_test.values.reshape(-1,1))"
   ]
  },
  {
   "cell_type": "markdown",
   "id": "49b1648d",
   "metadata": {
    "papermill": {
     "duration": 0.031462,
     "end_time": "2022-02-07T13:39:59.942276",
     "exception": false,
     "start_time": "2022-02-07T13:39:59.910814",
     "status": "completed"
    },
    "tags": []
   },
   "source": [
    "### Evaluating Model #1"
   ]
  },
  {
   "cell_type": "code",
   "execution_count": 11,
   "id": "73419bbe",
   "metadata": {
    "execution": {
     "iopub.execute_input": "2022-02-07T13:40:00.010311Z",
     "iopub.status.busy": "2022-02-07T13:40:00.009690Z",
     "iopub.status.idle": "2022-02-07T13:40:00.016512Z",
     "shell.execute_reply": "2022-02-07T13:40:00.015946Z",
     "shell.execute_reply.started": "2022-02-07T13:34:50.476422Z"
    },
    "papermill": {
     "duration": 0.042249,
     "end_time": "2022-02-07T13:40:00.016653",
     "exception": false,
     "start_time": "2022-02-07T13:39:59.974404",
     "status": "completed"
    },
    "tags": []
   },
   "outputs": [
    {
     "name": "stdout",
     "output_type": "stream",
     "text": [
      "Mean squared error: 56.09\n"
     ]
    }
   ],
   "source": [
    "print(\"Mean squared error: %.2f\" % mean_squared_error(y_test, Ypredicted))"
   ]
  },
  {
   "cell_type": "code",
   "execution_count": 12,
   "id": "a397ee2e",
   "metadata": {
    "execution": {
     "iopub.execute_input": "2022-02-07T13:40:00.088337Z",
     "iopub.status.busy": "2022-02-07T13:40:00.087658Z",
     "iopub.status.idle": "2022-02-07T13:40:00.091588Z",
     "shell.execute_reply": "2022-02-07T13:40:00.090919Z",
     "shell.execute_reply.started": "2022-02-07T13:34:52.139387Z"
    },
    "papermill": {
     "duration": 0.041615,
     "end_time": "2022-02-07T13:40:00.091738",
     "exception": false,
     "start_time": "2022-02-07T13:40:00.050123",
     "status": "completed"
    },
    "tags": []
   },
   "outputs": [
    {
     "name": "stdout",
     "output_type": "stream",
     "text": [
      "Coefficient of determination: 0.89\n"
     ]
    }
   ],
   "source": [
    "print(\"Coefficient of determination: %.2f\" % r2_score(y_test, Ypredicted))"
   ]
  },
  {
   "cell_type": "code",
   "execution_count": 13,
   "id": "8067e51a",
   "metadata": {
    "execution": {
     "iopub.execute_input": "2022-02-07T13:40:00.162350Z",
     "iopub.status.busy": "2022-02-07T13:40:00.161413Z",
     "iopub.status.idle": "2022-02-07T13:40:00.406350Z",
     "shell.execute_reply": "2022-02-07T13:40:00.405817Z",
     "shell.execute_reply.started": "2022-02-07T13:34:53.018134Z"
    },
    "papermill": {
     "duration": 0.282227,
     "end_time": "2022-02-07T13:40:00.406512",
     "exception": false,
     "start_time": "2022-02-07T13:40:00.124285",
     "status": "completed"
    },
    "tags": []
   },
   "outputs": [
    {
     "data": {
      "text/plain": [
       "[<matplotlib.lines.Line2D at 0x7ff785d13590>]"
      ]
     },
     "execution_count": 13,
     "metadata": {},
     "output_type": "execute_result"
    },
    {
     "data": {
      "image/png": "[encoded data removed]",
      "text/plain": [
       "<Figure size 432x288 with 1 Axes>"
      ]
     },
     "metadata": {
      "needs_background": "light"
     },
     "output_type": "display_data"
    }
   ],
   "source": [
    "plt.scatter(x_test, y_test, color=\"black\")\n",
    "plt.plot(x_test, Ypredicted, color=\"blue\", linewidth=3)"
   ]
  },
  {
   "cell_type": "markdown",
   "id": "d3033e8f",
   "metadata": {
    "papermill": {
     "duration": 0.032848,
     "end_time": "2022-02-07T13:40:00.472912",
     "exception": false,
     "start_time": "2022-02-07T13:40:00.440064",
     "status": "completed"
    },
    "tags": []
   },
   "source": [
    "### Comparing Actual vs Predicted"
   ]
  },
  {
   "cell_type": "code",
   "execution_count": 14,
   "id": "f7273047",
   "metadata": {
    "execution": {
     "iopub.execute_input": "2022-02-07T13:40:00.543223Z",
     "iopub.status.busy": "2022-02-07T13:40:00.542261Z",
     "iopub.status.idle": "2022-02-07T13:40:00.552688Z",
     "shell.execute_reply": "2022-02-07T13:40:00.553264Z",
     "shell.execute_reply.started": "2022-02-07T13:34:55.376083Z"
    },
    "papermill": {
     "duration": 0.047316,
     "end_time": "2022-02-07T13:40:00.553429",
     "exception": false,
     "start_time": "2022-02-07T13:40:00.506113",
     "status": "completed"
    },
    "tags": []
   },
   "outputs": [
    {
     "data": {
      "text/html": [
       "<div>\n",
       "<style scoped>\n",
       "    .dataframe tbody tr th:only-of-type {\n",
       "        vertical-align: middle;\n",
       "    }\n",
       "\n",
       "    .dataframe tbody tr th {\n",
       "        vertical-align: top;\n",
       "    }\n",
       "\n",
       "    .dataframe thead th {\n",
       "        text-align: right;\n",
       "    }\n",
       "</style>\n",
       "<table border=\"1\" class=\"dataframe\">\n",
       "  <thead>\n",
       "    <tr style=\"text-align: right;\">\n",
       "      <th></th>\n",
       "      <th>Actual</th>\n",
       "      <th>Predicted</th>\n",
       "    </tr>\n",
       "  </thead>\n",
       "  <tbody>\n",
       "    <tr>\n",
       "      <th>14</th>\n",
       "      <td>17</td>\n",
       "      <td>9.939530</td>\n",
       "    </tr>\n",
       "    <tr>\n",
       "      <th>13</th>\n",
       "      <td>42</td>\n",
       "      <td>32.843201</td>\n",
       "    </tr>\n",
       "    <tr>\n",
       "      <th>17</th>\n",
       "      <td>24</td>\n",
       "      <td>18.268138</td>\n",
       "    </tr>\n",
       "    <tr>\n",
       "      <th>3</th>\n",
       "      <td>75</td>\n",
       "      <td>86.979152</td>\n",
       "    </tr>\n",
       "    <tr>\n",
       "      <th>21</th>\n",
       "      <td>54</td>\n",
       "      <td>48.459341</td>\n",
       "    </tr>\n",
       "    <tr>\n",
       "      <th>10</th>\n",
       "      <td>85</td>\n",
       "      <td>78.650544</td>\n",
       "    </tr>\n",
       "    <tr>\n",
       "      <th>18</th>\n",
       "      <td>67</td>\n",
       "      <td>61.993329</td>\n",
       "    </tr>\n",
       "    <tr>\n",
       "      <th>19</th>\n",
       "      <td>69</td>\n",
       "      <td>75.527316</td>\n",
       "    </tr>\n",
       "  </tbody>\n",
       "</table>\n",
       "</div>"
      ],
      "text/plain": [
       "    Actual  Predicted\n",
       "14      17   9.939530\n",
       "13      42  32.843201\n",
       "17      24  18.268138\n",
       "3       75  86.979152\n",
       "21      54  48.459341\n",
       "10      85  78.650544\n",
       "18      67  61.993329\n",
       "19      69  75.527316"
      ]
     },
     "execution_count": 14,
     "metadata": {},
     "output_type": "execute_result"
    }
   ],
   "source": [
    "df = pd.DataFrame({'Actual': y_test, 'Predicted': Ypredicted})  \n",
    "df "
   ]
  },
  {
   "cell_type": "markdown",
   "id": "75fcafe7",
   "metadata": {
    "papermill": {
     "duration": 0.033247,
     "end_time": "2022-02-07T13:40:00.620570",
     "exception": false,
     "start_time": "2022-02-07T13:40:00.587323",
     "status": "completed"
    },
    "tags": []
   },
   "source": [
    "## Model #2 : Polynomial Regression"
   ]
  },
  {
   "cell_type": "code",
   "execution_count": 15,
   "id": "1167f123",
   "metadata": {
    "execution": {
     "iopub.execute_input": "2022-02-07T13:40:00.691871Z",
     "iopub.status.busy": "2022-02-07T13:40:00.690773Z",
     "iopub.status.idle": "2022-02-07T13:40:00.694828Z",
     "shell.execute_reply": "2022-02-07T13:40:00.695399Z",
     "shell.execute_reply.started": "2022-02-07T13:34:58.616566Z"
    },
    "papermill": {
     "duration": 0.041339,
     "end_time": "2022-02-07T13:40:00.695592",
     "exception": false,
     "start_time": "2022-02-07T13:40:00.654253",
     "status": "completed"
    },
    "tags": []
   },
   "outputs": [],
   "source": [
    "poly = PolynomialFeatures(degree=3, include_bias=False)"
   ]
  },
  {
   "cell_type": "code",
   "execution_count": 16,
   "id": "95da97fc",
   "metadata": {
    "execution": {
     "iopub.execute_input": "2022-02-07T13:40:00.766256Z",
     "iopub.status.busy": "2022-02-07T13:40:00.765278Z",
     "iopub.status.idle": "2022-02-07T13:40:00.769837Z",
     "shell.execute_reply": "2022-02-07T13:40:00.770376Z",
     "shell.execute_reply.started": "2022-02-07T13:34:59.201981Z"
    },
    "papermill": {
     "duration": 0.041624,
     "end_time": "2022-02-07T13:40:00.770573",
     "exception": false,
     "start_time": "2022-02-07T13:40:00.728949",
     "status": "completed"
    },
    "tags": []
   },
   "outputs": [],
   "source": [
    "poly_features = poly.fit_transform(x_train.values.reshape(-1, 1))"
   ]
  },
  {
   "cell_type": "code",
   "execution_count": 17,
   "id": "cbbe04ff",
   "metadata": {
    "execution": {
     "iopub.execute_input": "2022-02-07T13:40:00.844953Z",
     "iopub.status.busy": "2022-02-07T13:40:00.843988Z",
     "iopub.status.idle": "2022-02-07T13:40:00.846802Z",
     "shell.execute_reply": "2022-02-07T13:40:00.846240Z",
     "shell.execute_reply.started": "2022-02-07T13:35:01.140908Z"
    },
    "papermill": {
     "duration": 0.042145,
     "end_time": "2022-02-07T13:40:00.846943",
     "exception": false,
     "start_time": "2022-02-07T13:40:00.804798",
     "status": "completed"
    },
    "tags": []
   },
   "outputs": [],
   "source": [
    "poly_reg_model = LinearRegression()"
   ]
  },
  {
   "cell_type": "code",
   "execution_count": 18,
   "id": "05737d36",
   "metadata": {
    "execution": {
     "iopub.execute_input": "2022-02-07T13:40:00.925056Z",
     "iopub.status.busy": "2022-02-07T13:40:00.924313Z",
     "iopub.status.idle": "2022-02-07T13:40:00.926930Z",
     "shell.execute_reply": "2022-02-07T13:40:00.927404Z",
     "shell.execute_reply.started": "2022-02-07T13:35:02.615041Z"
    },
    "papermill": {
     "duration": 0.046298,
     "end_time": "2022-02-07T13:40:00.927587",
     "exception": false,
     "start_time": "2022-02-07T13:40:00.881289",
     "status": "completed"
    },
    "tags": []
   },
   "outputs": [
    {
     "data": {
      "text/plain": [
       "LinearRegression()"
      ]
     },
     "execution_count": 18,
     "metadata": {},
     "output_type": "execute_result"
    }
   ],
   "source": [
    "poly_reg_model.fit(poly_features, y_train)"
   ]
  },
  {
   "cell_type": "code",
   "execution_count": 19,
   "id": "80a06540",
   "metadata": {
    "execution": {
     "iopub.execute_input": "2022-02-07T13:40:01.000309Z",
     "iopub.status.busy": "2022-02-07T13:40:00.999655Z",
     "iopub.status.idle": "2022-02-07T13:40:01.005279Z",
     "shell.execute_reply": "2022-02-07T13:40:01.005822Z",
     "shell.execute_reply.started": "2022-02-07T13:35:03.977236Z"
    },
    "papermill": {
     "duration": 0.043829,
     "end_time": "2022-02-07T13:40:01.005996",
     "exception": false,
     "start_time": "2022-02-07T13:40:00.962167",
     "status": "completed"
    },
    "tags": []
   },
   "outputs": [
    {
     "data": {
      "text/plain": [
       "0.9827190721791937"
      ]
     },
     "execution_count": 19,
     "metadata": {},
     "output_type": "execute_result"
    }
   ],
   "source": [
    "poly_reg_model.score(poly_features, y_train)"
   ]
  },
  {
   "cell_type": "code",
   "execution_count": 20,
   "id": "2cd4eb60",
   "metadata": {
    "execution": {
     "iopub.execute_input": "2022-02-07T13:40:01.079717Z",
     "iopub.status.busy": "2022-02-07T13:40:01.079047Z",
     "iopub.status.idle": "2022-02-07T13:40:01.083037Z",
     "shell.execute_reply": "2022-02-07T13:40:01.083551Z",
     "shell.execute_reply.started": "2022-02-07T13:35:06.406349Z"
    },
    "papermill": {
     "duration": 0.04229,
     "end_time": "2022-02-07T13:40:01.083725",
     "exception": false,
     "start_time": "2022-02-07T13:40:01.041435",
     "status": "completed"
    },
    "tags": []
   },
   "outputs": [],
   "source": [
    "x_test_poly = poly.fit_transform(x_test.values.reshape(-1, 1))"
   ]
  },
  {
   "cell_type": "code",
   "execution_count": 21,
   "id": "30924071",
   "metadata": {
    "execution": {
     "iopub.execute_input": "2022-02-07T13:40:01.157267Z",
     "iopub.status.busy": "2022-02-07T13:40:01.155433Z",
     "iopub.status.idle": "2022-02-07T13:40:01.158994Z",
     "shell.execute_reply": "2022-02-07T13:40:01.159550Z",
     "shell.execute_reply.started": "2022-02-07T13:35:08.098895Z"
    },
    "papermill": {
     "duration": 0.041696,
     "end_time": "2022-02-07T13:40:01.159721",
     "exception": false,
     "start_time": "2022-02-07T13:40:01.118025",
     "status": "completed"
    },
    "tags": []
   },
   "outputs": [],
   "source": [
    "y_poly_predicted = poly_reg_model.predict(x_test_poly)"
   ]
  },
  {
   "cell_type": "code",
   "execution_count": 22,
   "id": "ef67343e",
   "metadata": {
    "execution": {
     "iopub.execute_input": "2022-02-07T13:40:01.231710Z",
     "iopub.status.busy": "2022-02-07T13:40:01.231032Z",
     "iopub.status.idle": "2022-02-07T13:40:01.235964Z",
     "shell.execute_reply": "2022-02-07T13:40:01.236511Z",
     "shell.execute_reply.started": "2022-02-07T13:35:09.433760Z"
    },
    "papermill": {
     "duration": 0.042821,
     "end_time": "2022-02-07T13:40:01.236681",
     "exception": false,
     "start_time": "2022-02-07T13:40:01.193860",
     "status": "completed"
    },
    "tags": []
   },
   "outputs": [
    {
     "data": {
      "text/plain": [
       "array([23.42950069, 29.88029858, 22.19368724, 88.29665857, 46.96394887,\n",
       "       82.66798548, 64.36493193, 79.81680495])"
      ]
     },
     "execution_count": 22,
     "metadata": {},
     "output_type": "execute_result"
    }
   ],
   "source": [
    "y_poly_predicted"
   ]
  },
  {
   "cell_type": "markdown",
   "id": "072d739e",
   "metadata": {
    "papermill": {
     "duration": 0.034295,
     "end_time": "2022-02-07T13:40:01.306163",
     "exception": false,
     "start_time": "2022-02-07T13:40:01.271868",
     "status": "completed"
    },
    "tags": []
   },
   "source": [
    "### Evaluating Model #2"
   ]
  },
  {
   "cell_type": "code",
   "execution_count": 23,
   "id": "20f03ea4",
   "metadata": {
    "execution": {
     "iopub.execute_input": "2022-02-07T13:40:01.378283Z",
     "iopub.status.busy": "2022-02-07T13:40:01.377655Z",
     "iopub.status.idle": "2022-02-07T13:40:01.384227Z",
     "shell.execute_reply": "2022-02-07T13:40:01.384765Z",
     "shell.execute_reply.started": "2022-02-07T13:35:13.367353Z"
    },
    "papermill": {
     "duration": 0.044467,
     "end_time": "2022-02-07T13:40:01.384960",
     "exception": false,
     "start_time": "2022-02-07T13:40:01.340493",
     "status": "completed"
    },
    "tags": []
   },
   "outputs": [
    {
     "name": "stdout",
     "output_type": "stream",
     "text": [
      "Mean squared error: 68.40\n"
     ]
    }
   ],
   "source": [
    "print(\"Mean squared error: %.2f\" % mean_squared_error(y_test, y_poly_predicted))"
   ]
  },
  {
   "cell_type": "code",
   "execution_count": 24,
   "id": "a8b30086",
   "metadata": {
    "execution": {
     "iopub.execute_input": "2022-02-07T13:40:01.464549Z",
     "iopub.status.busy": "2022-02-07T13:40:01.463681Z",
     "iopub.status.idle": "2022-02-07T13:40:01.467047Z",
     "shell.execute_reply": "2022-02-07T13:40:01.467554Z",
     "shell.execute_reply.started": "2022-02-07T13:35:14.598261Z"
    },
    "papermill": {
     "duration": 0.047049,
     "end_time": "2022-02-07T13:40:01.467723",
     "exception": false,
     "start_time": "2022-02-07T13:40:01.420674",
     "status": "completed"
    },
    "tags": []
   },
   "outputs": [
    {
     "name": "stdout",
     "output_type": "stream",
     "text": [
      "Coefficient of determination: 0.87\n"
     ]
    }
   ],
   "source": [
    "print(\"Coefficient of determination: %.2f\" % r2_score(y_test, y_poly_predicted))"
   ]
  },
  {
   "cell_type": "markdown",
   "id": "d25969d3",
   "metadata": {
    "papermill": {
     "duration": 0.035292,
     "end_time": "2022-02-07T13:40:01.538842",
     "exception": false,
     "start_time": "2022-02-07T13:40:01.503550",
     "status": "completed"
    },
    "tags": []
   },
   "source": [
    "### Comparing Actual vs Predicted"
   ]
  },
  {
   "cell_type": "code",
   "execution_count": 25,
   "id": "dd6a9c3a",
   "metadata": {
    "execution": {
     "iopub.execute_input": "2022-02-07T13:40:01.614966Z",
     "iopub.status.busy": "2022-02-07T13:40:01.611990Z",
     "iopub.status.idle": "2022-02-07T13:40:01.624090Z",
     "shell.execute_reply": "2022-02-07T13:40:01.624624Z",
     "shell.execute_reply.started": "2022-02-07T13:35:18.128936Z"
    },
    "papermill": {
     "duration": 0.050773,
     "end_time": "2022-02-07T13:40:01.624802",
     "exception": false,
     "start_time": "2022-02-07T13:40:01.574029",
     "status": "completed"
    },
    "tags": []
   },
   "outputs": [
    {
     "data": {
      "text/html": [
       "<div>\n",
       "<style scoped>\n",
       "    .dataframe tbody tr th:only-of-type {\n",
       "        vertical-align: middle;\n",
       "    }\n",
       "\n",
       "    .dataframe tbody tr th {\n",
       "        vertical-align: top;\n",
       "    }\n",
       "\n",
       "    .dataframe thead th {\n",
       "        text-align: right;\n",
       "    }\n",
       "</style>\n",
       "<table border=\"1\" class=\"dataframe\">\n",
       "  <thead>\n",
       "    <tr style=\"text-align: right;\">\n",
       "      <th></th>\n",
       "      <th>Actual</th>\n",
       "      <th>Predicted</th>\n",
       "    </tr>\n",
       "  </thead>\n",
       "  <tbody>\n",
       "    <tr>\n",
       "      <th>14</th>\n",
       "      <td>17</td>\n",
       "      <td>23.429501</td>\n",
       "    </tr>\n",
       "    <tr>\n",
       "      <th>13</th>\n",
       "      <td>42</td>\n",
       "      <td>29.880299</td>\n",
       "    </tr>\n",
       "    <tr>\n",
       "      <th>17</th>\n",
       "      <td>24</td>\n",
       "      <td>22.193687</td>\n",
       "    </tr>\n",
       "    <tr>\n",
       "      <th>3</th>\n",
       "      <td>75</td>\n",
       "      <td>88.296659</td>\n",
       "    </tr>\n",
       "    <tr>\n",
       "      <th>21</th>\n",
       "      <td>54</td>\n",
       "      <td>46.963949</td>\n",
       "    </tr>\n",
       "    <tr>\n",
       "      <th>10</th>\n",
       "      <td>85</td>\n",
       "      <td>82.667985</td>\n",
       "    </tr>\n",
       "    <tr>\n",
       "      <th>18</th>\n",
       "      <td>67</td>\n",
       "      <td>64.364932</td>\n",
       "    </tr>\n",
       "    <tr>\n",
       "      <th>19</th>\n",
       "      <td>69</td>\n",
       "      <td>79.816805</td>\n",
       "    </tr>\n",
       "  </tbody>\n",
       "</table>\n",
       "</div>"
      ],
      "text/plain": [
       "    Actual  Predicted\n",
       "14      17  23.429501\n",
       "13      42  29.880299\n",
       "17      24  22.193687\n",
       "3       75  88.296659\n",
       "21      54  46.963949\n",
       "10      85  82.667985\n",
       "18      67  64.364932\n",
       "19      69  79.816805"
      ]
     },
     "execution_count": 25,
     "metadata": {},
     "output_type": "execute_result"
    }
   ],
   "source": [
    "df_2 = pd.DataFrame({'Actual': y_test, 'Predicted': y_poly_predicted})  \n",
    "df_2"
   ]
  },
  {
   "cell_type": "markdown",
   "id": "3570fedc",
   "metadata": {
    "papermill": {
     "duration": 0.036308,
     "end_time": "2022-02-07T13:40:01.698579",
     "exception": false,
     "start_time": "2022-02-07T13:40:01.662271",
     "status": "completed"
    },
    "tags": []
   },
   "source": [
    "# The Predicted Score if a student studys for 9.25 hours/day"
   ]
  },
  {
   "cell_type": "markdown",
   "id": "8101e1d4",
   "metadata": {
    "papermill": {
     "duration": 0.035847,
     "end_time": "2022-02-07T13:40:01.771454",
     "exception": false,
     "start_time": "2022-02-07T13:40:01.735607",
     "status": "completed"
    },
    "tags": []
   },
   "source": [
    "## Using Model #1"
   ]
  },
  {
   "cell_type": "code",
   "execution_count": 26,
   "id": "5177a506",
   "metadata": {
    "execution": {
     "iopub.execute_input": "2022-02-07T13:40:01.848144Z",
     "iopub.status.busy": "2022-02-07T13:40:01.847442Z",
     "iopub.status.idle": "2022-02-07T13:40:01.856215Z",
     "shell.execute_reply": "2022-02-07T13:40:01.856844Z",
     "shell.execute_reply.started": "2022-02-07T13:38:36.727774Z"
    },
    "papermill": {
     "duration": 0.049604,
     "end_time": "2022-02-07T13:40:01.857030",
     "exception": false,
     "start_time": "2022-02-07T13:40:01.807426",
     "status": "completed"
    },
    "tags": []
   },
   "outputs": [
    {
     "name": "stdout",
     "output_type": "stream",
     "text": [
      "No of Hours = hours    9.25\n",
      "Name: 0, dtype: float64\n",
      "Predicted Score = 94.78722212956563\n"
     ]
    }
   ],
   "source": [
    "hours_df = pd.DataFrame({'hours': [9.25]})\n",
    "own_pred = model.predict(hours_df)\n",
    "print(\"No of Hours = {}\".format(hours_df.iloc[0]))\n",
    "print(\"Predicted Score = {}\".format(own_pred[0]))"
   ]
  },
  {
   "cell_type": "markdown",
   "id": "7ba4491b",
   "metadata": {
    "papermill": {
     "duration": 0.03555,
     "end_time": "2022-02-07T13:40:01.928848",
     "exception": false,
     "start_time": "2022-02-07T13:40:01.893298",
     "status": "completed"
    },
    "tags": []
   },
   "source": [
    "## Using Model #2"
   ]
  },
  {
   "cell_type": "code",
   "execution_count": 27,
   "id": "7c1a6c36",
   "metadata": {
    "execution": {
     "iopub.execute_input": "2022-02-07T13:40:02.007207Z",
     "iopub.status.busy": "2022-02-07T13:40:02.006036Z",
     "iopub.status.idle": "2022-02-07T13:40:02.016796Z",
     "shell.execute_reply": "2022-02-07T13:40:02.015950Z",
     "shell.execute_reply.started": "2022-02-07T13:39:17.719404Z"
    },
    "papermill": {
     "duration": 0.05174,
     "end_time": "2022-02-07T13:40:02.017000",
     "exception": false,
     "start_time": "2022-02-07T13:40:01.965260",
     "status": "completed"
    },
    "tags": []
   },
   "outputs": [
    {
     "name": "stdout",
     "output_type": "stream",
     "text": [
      "No of Hours = hours    9.25\n",
      "Name: 0, dtype: float64\n",
      "Predicted Score = 90.28875576049808\n"
     ]
    }
   ],
   "source": [
    "hours_df2 = pd.DataFrame({'hours': [9.25]})\n",
    "hours_poly = poly.fit_transform(hours_df2.values.reshape(-1, 1))\n",
    "own_pred2 = poly_reg_model.predict(hours_poly)\n",
    "print(\"No of Hours = {}\".format(hours_df2.iloc[0]))\n",
    "print(\"Predicted Score = {}\".format(own_pred2[0]))"
   ]
  }
 ],
 "metadata": {
  "kernelspec": {
   "display_name": "Python 3",
   "language": "python",
   "name": "python3"
  },
  "language_info": {
   "codemirror_mode": {
    "name": "ipython",
    "version": 3
   },
   "file_extension": ".py",
   "mimetype": "text/x-python",
   "name": "python",
   "nbconvert_exporter": "python",
   "pygments_lexer": "ipython3",
   "version": "3.7.12"
  },
  "papermill": {
   "default_parameters": {},
   "duration": 16.697364,
   "end_time": "2022-02-07T13:40:02.867700",
   "environment_variables": {},
   "exception": null,
   "input_path": "__notebook__.ipynb",
   "output_path": "__notebook__.ipynb",
   "parameters": {},
   "start_time": "2022-02-07T13:39:46.170336",
   "version": "2.3.3"
  }
 },
 "nbformat": 4,
 "nbformat_minor": 5
}
